{
 "cells": [
  {
   "cell_type": "code",
   "execution_count": null,
   "id": "21f6607d",
   "metadata": {},
   "outputs": [],
   "source": [
    "# Para instalar um pacote:\n",
    "# pip install nome_pacote\n",
    "\n",
    "# Para atualizar um pacote:\n",
    "# pip install -U nome_pacote\n",
    "\n",
    "# Para instalar uma versão específica de um determinado pacote:\n",
    "# pip install nome_pacote==versao_desejada\n",
    "\n",
    "# Depois de instalado ou atualizado"
   ]
  },
  {
   "cell_type": "code",
   "execution_count": null,
   "id": "30ed816b",
   "metadata": {},
   "outputs": [],
   "source": [
    "# Instalação do pacote iPython-sql. A '!' indica que é um comando de so, não do python.\n",
    "\n",
    "# https://pypi.org/project/ipython-sql/\n",
    "\n",
    "# !pip install -q ipython-sql"
   ]
  },
  {
   "cell_type": "code",
   "execution_count": null,
   "id": "53b33d25",
   "metadata": {},
   "outputs": [],
   "source": [
    "# Instalar o conector com o sgbd mysql\n",
    "# !pip install mysql-connector-python\n",
    "\n",
    "# Para evitar possíveis erros, insira no final a versão do mysql instalado em sua máquina usando esse comando:\n",
    "# !pip install mysql-connector-python==8.0.26\n",
    "\n",
    "# Fonte: https://mayararysia.medium.com/python-conex%C3%A3o-com-o-mysql-d919bb596702#:~:text=connector%20utilizando%20o%20sistema%20de,%2Dpython%3D%3D8.0.13%20."
   ]
  },
  {
   "cell_type": "code",
   "execution_count": null,
   "id": "97c82942",
   "metadata": {},
   "outputs": [],
   "source": [
    "# import mysql.connector as mysql"
   ]
  },
  {
   "cell_type": "code",
   "execution_count": null,
   "id": "0c7f3ab9",
   "metadata": {},
   "outputs": [],
   "source": [
    "import pandas as pd\n",
    "import sqlite3"
   ]
  },
  {
   "cell_type": "markdown",
   "id": "3b0d607b",
   "metadata": {},
   "source": [
    "### Banco Relacional, Python e SQL para Análise de Dados"
   ]
  },
  {
   "cell_type": "markdown",
   "id": "47ddf7e4",
   "metadata": {},
   "source": [
    "Abaixo, vemos como transformar um dicionário de dados em uma dataframe passível de ser armazenada em uma tabela de um banco de dados."
   ]
  },
  {
   "cell_type": "code",
   "execution_count": null,
   "id": "b330e7be",
   "metadata": {},
   "outputs": [],
   "source": [
    "# Cria um dataframe\n",
    "\n",
    "dados = pd.DataFrame({'nome': ['Márcia', 'João', 'Felipe'],\n",
    "                      'idade': [32, 33, 7],\n",
    "                      'ocupação': ['Software Engineer', 'PO', 'Estagiário']\n",
    "                     })"
   ]
  },
  {
   "cell_type": "code",
   "execution_count": null,
   "id": "c3326297",
   "metadata": {},
   "outputs": [],
   "source": [
    "dados.head()"
   ]
  },
  {
   "cell_type": "code",
   "execution_count": null,
   "id": "e870c624",
   "metadata": {},
   "outputs": [],
   "source": [
    "# Cria conexão a um banco de dados SQLite\n",
    "\n",
    "cnn = sqlite3.connect('database/dbprojeto1.db')"
   ]
  },
  {
   "cell_type": "code",
   "execution_count": null,
   "id": "dab384fa",
   "metadata": {},
   "outputs": [],
   "source": [
    "# Copia os dados do dataframe para o banco de dados como uma tabela\n",
    "\n",
    "dados.to_sql('funcionarios', cnn)"
   ]
  },
  {
   "cell_type": "code",
   "execution_count": null,
   "id": "23c52882",
   "metadata": {},
   "outputs": [],
   "source": [
    "# Carregando a extensão SQL\n",
    "\n",
    "%load_ext sql"
   ]
  },
  {
   "cell_type": "code",
   "execution_count": null,
   "id": "58d5bfa4",
   "metadata": {},
   "outputs": [],
   "source": [
    "# Definir o banco de dados\n",
    "\n",
    "%sql sqlite:///database/dbprojeto1.db"
   ]
  },
  {
   "cell_type": "code",
   "execution_count": null,
   "id": "4d1b1774",
   "metadata": {},
   "outputs": [],
   "source": [
    "%%sql\n",
    "\n",
    "SELECT * FROM funcionarios"
   ]
  },
  {
   "cell_type": "code",
   "execution_count": null,
   "id": "b070399a",
   "metadata": {},
   "outputs": [],
   "source": [
    "%%sql\n",
    "\n",
    "SELECT COUNT(*) FROM funcionarios"
   ]
  },
  {
   "cell_type": "code",
   "execution_count": null,
   "id": "0b32fcae",
   "metadata": {},
   "outputs": [],
   "source": [
    "%%sql\n",
    "\n",
    "SELECT AVG(idade) as 'média_idade' FROM funcionarios"
   ]
  },
  {
   "cell_type": "markdown",
   "id": "2e11cc28",
   "metadata": {},
   "source": [
    "### Trabalhando com arquivos .csv"
   ]
  },
  {
   "cell_type": "markdown",
   "id": "ea751334",
   "metadata": {},
   "source": [
    "Gere uma amostra de dados com os pacientes com mais de 50 anos e para cada um deles gere uma nova coluna se o paciente está normal (BMI menor que 30) ou se o paciente está obeso (BMI maior ou igual a 30). Em seguida gerar um novo arquivo CSV."
   ]
  },
  {
   "cell_type": "code",
   "execution_count": null,
   "id": "d668484d",
   "metadata": {},
   "outputs": [],
   "source": [
    "# read_csv faz a leitura do arquivo .csv a partir do caminho informado como parâmetro.\n",
    "\n",
    "df = pd.read_csv(\"C:\\Marcia\\CursosDSA\\AnaliseDadosPython\\cap02\\dataset\\diabetes.csv\")"
   ]
  },
  {
   "cell_type": "code",
   "execution_count": null,
   "id": "a1523e1f",
   "metadata": {},
   "outputs": [],
   "source": [
    "# Verifica o tipo da variável\n",
    "\n",
    "type(df)"
   ]
  },
  {
   "cell_type": "code",
   "execution_count": null,
   "id": "82c3ab52",
   "metadata": {},
   "outputs": [],
   "source": [
    "# Traz informações sobre o total de linhas x colunas do dataframe\n",
    "\n",
    "df.shape"
   ]
  },
  {
   "cell_type": "code",
   "execution_count": null,
   "id": "4b5197f1",
   "metadata": {},
   "outputs": [],
   "source": [
    "df.head()"
   ]
  },
  {
   "cell_type": "code",
   "execution_count": null,
   "id": "b635deb1",
   "metadata": {},
   "outputs": [],
   "source": [
    "# Copia o dataframe para uma tabela no banco de dados. A conexão deve ser realizada anteriormente.\n",
    "\n",
    "df.to_sql('pacientes', cnn)"
   ]
  },
  {
   "cell_type": "code",
   "execution_count": null,
   "id": "aa4d3b07",
   "metadata": {},
   "outputs": [],
   "source": [
    "%%sql\n",
    "\n",
    "SELECT * FROM pacientes"
   ]
  },
  {
   "cell_type": "code",
   "execution_count": null,
   "id": "b79460c2",
   "metadata": {},
   "outputs": [],
   "source": [
    "%%sql\n",
    "\n",
    "SELECT count(*) FROM pacientes\n",
    "WHERE age > 50"
   ]
  },
  {
   "cell_type": "code",
   "execution_count": null,
   "id": "46856940",
   "metadata": {},
   "outputs": [],
   "source": [
    "%%sql\n",
    "\n",
    "SELECT * FROM pacientes\n",
    "WHERE age > 50"
   ]
  },
  {
   "cell_type": "code",
   "execution_count": null,
   "id": "f282725d",
   "metadata": {},
   "outputs": [],
   "source": [
    "%%sql\n",
    "\n",
    "SELECT *,\n",
    "CASE\n",
    "    WHEN BMI < 30 THEN \"Normal\"\n",
    "    WHEN BMI >= 30 THEN \"Obeso\"\n",
    "END AS Perfil\n",
    "FROM pacientes\n",
    "WHERE age > 50"
   ]
  },
  {
   "cell_type": "code",
   "execution_count": null,
   "id": "09f0d358",
   "metadata": {},
   "outputs": [],
   "source": [
    "%%sql\n",
    "\n",
    "CREATE TABLE pacientesV1\n",
    "AS\n",
    "SELECT *,\n",
    "CASE\n",
    "    WHEN BMI < 30 THEN \"Normal\"\n",
    "    WHEN BMI >= 30 THEN \"Obeso\"\n",
    "END AS Perfil\n",
    "FROM pacientes\n",
    "WHERE age > 50"
   ]
  },
  {
   "cell_type": "code",
   "execution_count": null,
   "id": "9a256f62",
   "metadata": {},
   "outputs": [],
   "source": [
    "# Armazenando a consulta em uma variável\n",
    "\n",
    "query = cnn.execute(\"SELECT * FROM pacientesV1\")\n",
    "query # Um cursor é o resultado de uma consulta sql."
   ]
  },
  {
   "cell_type": "code",
   "execution_count": null,
   "id": "11fc75d1",
   "metadata": {},
   "outputs": [],
   "source": [
    "# List Comprehension\n",
    "\n",
    "col = [column[0] for column in query.description]\n",
    "col"
   ]
  },
  {
   "cell_type": "code",
   "execution_count": null,
   "id": "49a2863e",
   "metadata": {},
   "outputs": [],
   "source": [
    "# Gerando o novo dataframe\n",
    "# Para que o DF possa ser gerado a partir de uma query no BD, os dados precisam de fato está armazenados fisicamente.\n",
    "\n",
    "result = pd.DataFrame.from_records(\n",
    "    data = query.fetchall(),\n",
    "    columns = columns\n",
    ")"
   ]
  },
  {
   "cell_type": "code",
   "execution_count": null,
   "id": "5475135d",
   "metadata": {},
   "outputs": [],
   "source": [
    "result.shape"
   ]
  },
  {
   "cell_type": "code",
   "execution_count": null,
   "id": "6685d0a7",
   "metadata": {},
   "outputs": [],
   "source": [
    "result.head()"
   ]
  },
  {
   "cell_type": "code",
   "execution_count": null,
   "id": "9c23a765",
   "metadata": {},
   "outputs": [],
   "source": [
    "# Savando o resultado em um arquivo .csv\n",
    "\n",
    "result.to_csv('dataset/pacientes.csv', index = False)"
   ]
  },
  {
   "cell_type": "markdown",
   "id": "8fc31edc",
   "metadata": {},
   "source": [
    "### Fim"
   ]
  }
 ],
 "metadata": {
  "kernelspec": {
   "display_name": "Python 3 (ipykernel)",
   "language": "python",
   "name": "python3"
  },
  "language_info": {
   "codemirror_mode": {
    "name": "ipython",
    "version": 3
   },
   "file_extension": ".py",
   "mimetype": "text/x-python",
   "name": "python",
   "nbconvert_exporter": "python",
   "pygments_lexer": "ipython3",
   "version": "3.10.9"
  }
 },
 "nbformat": 4,
 "nbformat_minor": 5
}
