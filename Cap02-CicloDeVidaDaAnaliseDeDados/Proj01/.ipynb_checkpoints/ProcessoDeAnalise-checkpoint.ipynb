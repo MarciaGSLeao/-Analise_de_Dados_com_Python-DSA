{
 "cells": [
  {
   "cell_type": "markdown",
   "id": "caff4bc5",
   "metadata": {},
   "source": [
    "#### Gerar uma amostra de dados com os pacientes com mais de 50 anos e para cada um deles indicar em uma nova coluna se o paciente está normal (índice de massa corpórea menor que 30) ou obeso (índice de massa corpórea maior ou igual a 30). Então devemos gerar um novo arquivo CSV e encaminhar para o CD. "
   ]
  },
  {
   "cell_type": "code",
   "execution_count": 5,
   "id": "e2acadff",
   "metadata": {},
   "outputs": [
    {
     "name": "stdout",
     "output_type": "stream",
     "text": [
      "Versão: 3.11.5\n"
     ]
    }
   ],
   "source": [
    "# Verificando a versão da linguagem Python\n",
    "from platform import python_version\n",
    "print('Versão:', python_version())"
   ]
  },
  {
   "cell_type": "code",
   "execution_count": 6,
   "id": "c41e8763",
   "metadata": {},
   "outputs": [],
   "source": [
    "# Instalando o pacote ipython-sql\n",
    "# Este pacote permite manipular dados via Jupyter Notebook fazendo uso da linguagem SQL.\n",
    "\n",
    "# !pip install -q ipython-sql"
   ]
  },
  {
   "cell_type": "code",
   "execution_count": 7,
   "id": "38da07d1",
   "metadata": {},
   "outputs": [],
   "source": [
    "# Imports\n",
    "import pandas as pd    # Pandas é o \"excel\" da linguagem Python.\n",
    "import sqlite3         # SQLite3 é um pacote que permite interagir com o banco de dados SQLite."
   ]
  },
  {
   "cell_type": "code",
   "execution_count": 9,
   "id": "c694e185",
   "metadata": {},
   "outputs": [
    {
     "name": "stdout",
     "output_type": "stream",
     "text": [
      "2.6.0\n"
     ]
    }
   ],
   "source": [
    "print(sqlite3.version)"
   ]
  }
 ],
 "metadata": {
  "kernelspec": {
   "display_name": "Python 3 (ipykernel)",
   "language": "python",
   "name": "python3"
  },
  "language_info": {
   "codemirror_mode": {
    "name": "ipython",
    "version": 3
   },
   "file_extension": ".py",
   "mimetype": "text/x-python",
   "name": "python",
   "nbconvert_exporter": "python",
   "pygments_lexer": "ipython3",
   "version": "3.11.5"
  }
 },
 "nbformat": 4,
 "nbformat_minor": 5
}
