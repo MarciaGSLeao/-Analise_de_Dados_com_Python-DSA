{
 "cells": [
  {
   "cell_type": "markdown",
   "id": "caff4bc5",
   "metadata": {},
   "source": [
    "#### Gerar uma amostra de dados com os pacientes com mais de 50 anos e para cada um deles indicar em uma nova coluna se o paciente está normal (índice de massa corpórea menor que 30) ou obeso (índice de massa corpórea maior ou igual a 30). Então devemos gerar um novo arquivo CSV e encaminhar para o CD. "
   ]
  },
  {
   "cell_type": "code",
   "execution_count": 1,
   "id": "e2acadff",
   "metadata": {},
   "outputs": [
    {
     "name": "stdout",
     "output_type": "stream",
     "text": [
      "Versão: 3.11.5\n"
     ]
    }
   ],
   "source": [
    "# Verificando a versão da linguagem Python\n",
    "from platform import python_version\n",
    "print('Versão:', python_version())"
   ]
  },
  {
   "cell_type": "code",
   "execution_count": 2,
   "id": "c41e8763",
   "metadata": {},
   "outputs": [],
   "source": [
    "# Instalando o pacote ipython-sql\n",
    "# Este pacote permite manipular dados via Jupyter Notebook fazendo uso da linguagem SQL.\n",
    "\n",
    "# !pip install -q ipython-sql"
   ]
  },
  {
   "cell_type": "code",
   "execution_count": 3,
   "id": "38da07d1",
   "metadata": {},
   "outputs": [],
   "source": [
    "# Imports\n",
    "import pandas as pd    # Pandas é o \"excel\" da linguagem Python.\n",
    "import sqlite3         # SQLite3 é um pacote que permite interagir com o banco de dados SQLite."
   ]
  },
  {
   "cell_type": "code",
   "execution_count": 4,
   "id": "c694e185",
   "metadata": {},
   "outputs": [
    {
     "name": "stdout",
     "output_type": "stream",
     "text": [
      "2.6.0\n"
     ]
    }
   ],
   "source": [
    "print(sqlite3.version)"
   ]
  },
  {
   "cell_type": "code",
   "execution_count": 5,
   "id": "895ff9b1",
   "metadata": {},
   "outputs": [],
   "source": [
    "# Criando um dataframe com Pandas\n",
    "dados = pd.DataFrame({\n",
    "    'nome': ['JOAO', 'MARCIA', 'FELIPE'],\n",
    "    'idade': [33, 33, 8],\n",
    "    'cargo': ['DEV', 'DEV', 'STUDENT']\n",
    "})"
   ]
  },
  {
   "cell_type": "code",
   "execution_count": 6,
   "id": "3792970a",
   "metadata": {},
   "outputs": [
    {
     "data": {
      "text/html": [
       "<div>\n",
       "<style scoped>\n",
       "    .dataframe tbody tr th:only-of-type {\n",
       "        vertical-align: middle;\n",
       "    }\n",
       "\n",
       "    .dataframe tbody tr th {\n",
       "        vertical-align: top;\n",
       "    }\n",
       "\n",
       "    .dataframe thead th {\n",
       "        text-align: right;\n",
       "    }\n",
       "</style>\n",
       "<table border=\"1\" class=\"dataframe\">\n",
       "  <thead>\n",
       "    <tr style=\"text-align: right;\">\n",
       "      <th></th>\n",
       "      <th>nome</th>\n",
       "      <th>idade</th>\n",
       "      <th>cargo</th>\n",
       "    </tr>\n",
       "  </thead>\n",
       "  <tbody>\n",
       "    <tr>\n",
       "      <th>0</th>\n",
       "      <td>JOAO</td>\n",
       "      <td>33</td>\n",
       "      <td>DEV</td>\n",
       "    </tr>\n",
       "    <tr>\n",
       "      <th>1</th>\n",
       "      <td>MARCIA</td>\n",
       "      <td>33</td>\n",
       "      <td>DEV</td>\n",
       "    </tr>\n",
       "    <tr>\n",
       "      <th>2</th>\n",
       "      <td>FELIPE</td>\n",
       "      <td>8</td>\n",
       "      <td>STUDENT</td>\n",
       "    </tr>\n",
       "  </tbody>\n",
       "</table>\n",
       "</div>"
      ],
      "text/plain": [
       "     nome  idade    cargo\n",
       "0    JOAO     33      DEV\n",
       "1  MARCIA     33      DEV\n",
       "2  FELIPE      8  STUDENT"
      ]
     },
     "execution_count": 6,
     "metadata": {},
     "output_type": "execute_result"
    }
   ],
   "source": [
    "dados.head()"
   ]
  },
  {
   "cell_type": "code",
   "execution_count": 7,
   "id": "d1c46c3c",
   "metadata": {},
   "outputs": [],
   "source": [
    "# Apaga o banco de dados no SQLite\n",
    "# !del 'database/dbproj01.db'    -> comando se o SO for Win\n",
    "# !rm 'database/dbproj01.db'    -> comando se o SO for Mac ou Linux"
   ]
  },
  {
   "cell_type": "code",
   "execution_count": 9,
   "id": "c2168def",
   "metadata": {},
   "outputs": [],
   "source": [
    "# Abrindo conexão com o banco de dados \n",
    "conn = sqlite3.connect('dbproj01.db')"
   ]
  },
  {
   "cell_type": "code",
   "execution_count": 10,
   "id": "c95ae64a",
   "metadata": {},
   "outputs": [
    {
     "data": {
      "text/plain": [
       "3"
      ]
     },
     "execution_count": 10,
     "metadata": {},
     "output_type": "execute_result"
    }
   ],
   "source": [
    "# Copiando um dataframe para dentro do banco de dados como uma tabela\n",
    "#           (<nome_da_tabela>, <conexao_criada>) \n",
    "dados.to_sql('funcionarios', conn)"
   ]
  },
  {
   "cell_type": "code",
   "execution_count": 11,
   "id": "6b872e84",
   "metadata": {},
   "outputs": [],
   "source": [
    "# Carregando a extensão SQL. Permite a execução de código SQL direto no banco de dados.\n",
    "%load_ext sql"
   ]
  },
  {
   "cell_type": "code",
   "execution_count": 12,
   "id": "6dcc50e1",
   "metadata": {},
   "outputs": [],
   "source": [
    "# Definindo qual banco de dados será carregado para consulta\n",
    "%sql sqlite:///dbproj01.db"
   ]
  },
  {
   "cell_type": "code",
   "execution_count": 16,
   "id": "55988410",
   "metadata": {},
   "outputs": [],
   "source": [
    "# Abaixo, execução de scripts SQL. O Jupyter não aceita comentário na célula de execução do código SQL."
   ]
  },
  {
   "cell_type": "code",
   "execution_count": 15,
   "id": "baa6300d",
   "metadata": {},
   "outputs": [
    {
     "name": "stdout",
     "output_type": "stream",
     "text": [
      " * sqlite:///dbproj01.db\n",
      "Done.\n"
     ]
    },
    {
     "data": {
      "text/html": [
       "<table>\n",
       "    <thead>\n",
       "        <tr>\n",
       "            <th>index</th>\n",
       "            <th>nome</th>\n",
       "            <th>idade</th>\n",
       "            <th>cargo</th>\n",
       "        </tr>\n",
       "    </thead>\n",
       "    <tbody>\n",
       "        <tr>\n",
       "            <td>0</td>\n",
       "            <td>JOAO</td>\n",
       "            <td>33</td>\n",
       "            <td>DEV</td>\n",
       "        </tr>\n",
       "        <tr>\n",
       "            <td>1</td>\n",
       "            <td>MARCIA</td>\n",
       "            <td>33</td>\n",
       "            <td>DEV</td>\n",
       "        </tr>\n",
       "        <tr>\n",
       "            <td>2</td>\n",
       "            <td>FELIPE</td>\n",
       "            <td>8</td>\n",
       "            <td>STUDENT</td>\n",
       "        </tr>\n",
       "    </tbody>\n",
       "</table>"
      ],
      "text/plain": [
       "[(0, 'JOAO', 33, 'DEV'), (1, 'MARCIA', 33, 'DEV'), (2, 'FELIPE', 8, 'STUDENT')]"
      ]
     },
     "execution_count": 15,
     "metadata": {},
     "output_type": "execute_result"
    }
   ],
   "source": [
    "%%sql\n",
    "\n",
    "SELECT * FROM funcionarios"
   ]
  },
  {
   "cell_type": "code",
   "execution_count": 17,
   "id": "06e7f72e",
   "metadata": {},
   "outputs": [
    {
     "name": "stdout",
     "output_type": "stream",
     "text": [
      " * sqlite:///dbproj01.db\n",
      "Done.\n"
     ]
    },
    {
     "data": {
      "text/html": [
       "<table>\n",
       "    <thead>\n",
       "        <tr>\n",
       "            <th>COUNT(*)</th>\n",
       "        </tr>\n",
       "    </thead>\n",
       "    <tbody>\n",
       "        <tr>\n",
       "            <td>3</td>\n",
       "        </tr>\n",
       "    </tbody>\n",
       "</table>"
      ],
      "text/plain": [
       "[(3,)]"
      ]
     },
     "execution_count": 17,
     "metadata": {},
     "output_type": "execute_result"
    }
   ],
   "source": [
    "%%sql\n",
    "\n",
    "SELECT COUNT(*) FROM funcionarios"
   ]
  },
  {
   "cell_type": "code",
   "execution_count": 19,
   "id": "43551301",
   "metadata": {},
   "outputs": [
    {
     "name": "stdout",
     "output_type": "stream",
     "text": [
      " * sqlite:///dbproj01.db\n",
      "Done.\n"
     ]
    },
    {
     "data": {
      "text/html": [
       "<table>\n",
       "    <thead>\n",
       "        <tr>\n",
       "            <th>media_idade</th>\n",
       "        </tr>\n",
       "    </thead>\n",
       "    <tbody>\n",
       "        <tr>\n",
       "            <td>24.666666666666668</td>\n",
       "        </tr>\n",
       "    </tbody>\n",
       "</table>"
      ],
      "text/plain": [
       "[(24.666666666666668,)]"
      ]
     },
     "execution_count": 19,
     "metadata": {},
     "output_type": "execute_result"
    }
   ],
   "source": [
    "%%sql\n",
    "\n",
    "SELECT AVG(idade) AS 'media_idade' FROM funcionarios"
   ]
  }
 ],
 "metadata": {
  "kernelspec": {
   "display_name": "Python 3 (ipykernel)",
   "language": "python",
   "name": "python3"
  },
  "language_info": {
   "codemirror_mode": {
    "name": "ipython",
    "version": 3
   },
   "file_extension": ".py",
   "mimetype": "text/x-python",
   "name": "python",
   "nbconvert_exporter": "python",
   "pygments_lexer": "ipython3",
   "version": "3.11.5"
  }
 },
 "nbformat": 4,
 "nbformat_minor": 5
}
